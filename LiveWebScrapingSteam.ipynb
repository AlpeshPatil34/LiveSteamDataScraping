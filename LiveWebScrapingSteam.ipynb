{
 "cells": [
  {
   "cell_type": "code",
   "execution_count": 1,
   "metadata": {},
   "outputs": [],
   "source": [
    "import pandas as pd\n",
    "import re\n",
    "import os\n",
    "import requests\n",
    "from bs4 import BeautifulSoup"
   ]
  },
  {
   "cell_type": "code",
   "execution_count": 2,
   "metadata": {},
   "outputs": [
    {
     "data": {
      "text/plain": [
       "'/Users/alpeshp'"
      ]
     },
     "execution_count": 2,
     "metadata": {},
     "output_type": "execute_result"
    }
   ],
   "source": [
    "os.getcwd()"
   ]
  },
  {
   "cell_type": "code",
   "execution_count": 3,
   "metadata": {},
   "outputs": [],
   "source": [
    "os.chdir('/Users/alpeshp/WebScraping')"
   ]
  },
  {
   "cell_type": "code",
   "execution_count": 4,
   "metadata": {},
   "outputs": [
    {
     "data": {
      "text/plain": [
       "'/Users/alpeshp/WebScraping'"
      ]
     },
     "execution_count": 4,
     "metadata": {},
     "output_type": "execute_result"
    }
   ],
   "source": [
    "os.getcwd()"
   ]
  },
  {
   "cell_type": "code",
   "execution_count": 24,
   "metadata": {},
   "outputs": [
    {
     "name": "stdout",
     "output_type": "stream",
     "text": [
      "[{'gameURL': 'https://store.steampowered.com/app/292030/The_Witcher_3_Wild_Hunt/?snr=1_7_7_151_150_1', 'title': 'The Witcher® 3: Wild Hunt', 'releaseDate': '18 May, 2015', 'imgURL': 'https://cdn.cloudflare.steamstatic.com/steam/apps/292030/capsule_sm_120.jpg?t=1598535144', 'price': '₹ 800', 'discountedPrice': '₹ 240'}, {'gameURL': 'https://store.steampowered.com/app/20920/The_Witcher_2_Assassins_of_Kings_Enhanced_Edition/?snr=1_7_7_151_150_1', 'title': 'The Witcher 2: Assassins of Kings Enhanced Edition', 'releaseDate': '16 Apr, 2012', 'imgURL': 'https://cdn.cloudflare.steamstatic.com/steam/apps/20920/capsule_sm_120.jpg?t=1598536335', 'price': '₹ 565', 'discountedPrice': '₹ 84'}, {'gameURL': 'https://store.steampowered.com/app/1284410/GWENT_The_Witcher_Card_Game/?snr=1_7_7_151_150_1', 'title': 'GWENT: The Witcher Card Game', 'releaseDate': '19 May, 2020', 'imgURL': 'https://cdn.cloudflare.steamstatic.com/steam/apps/1284410/capsule_sm_120.jpg?t=1597169193', 'price': 'None', 'discountedPrice': 'None'}, {'gameURL': 'https://store.steampowered.com/sub/124923/?snr=1_7_7_151_150_1', 'title': 'The Witcher 3: Wild Hunt - Game of the Year Edition', 'releaseDate': '30 Aug, 2016', 'imgURL': 'https://cdn.cloudflare.steamstatic.com/steam/subs/124923/capsule_sm_120.jpg?t=1598286508', 'price': '₹ 999', 'discountedPrice': '₹ 299'}, {'gameURL': 'https://store.steampowered.com/app/973760/Thronebreaker_The_Witcher_Tales/?snr=1_7_7_151_150_1', 'title': 'Thronebreaker: The Witcher Tales', 'releaseDate': '9 Nov, 2018', 'imgURL': 'https://cdn.cloudflare.steamstatic.com/steam/apps/973760/capsule_sm_120.jpg?t=1598535548', 'price': '₹ 999', 'discountedPrice': '₹ 499'}, {'gameURL': 'https://store.steampowered.com/app/20900/The_Witcher_Enhanced_Edition_Directors_Cut/?snr=1_7_7_151_150_1', 'title': \"The Witcher: Enhanced Edition Director's Cut\", 'releaseDate': '16 Sep, 2008', 'imgURL': 'https://cdn.cloudflare.steamstatic.com/steam/apps/20900/capsule_sm_120.jpg?t=1598536687', 'price': '₹ 369', 'discountedPrice': '₹ 55'}, {'gameURL': 'https://store.steampowered.com/app/306130/The_Elder_Scrolls_Online/?snr=1_7_7_151_150_1', 'title': 'The Elder Scrolls® Online', 'releaseDate': '22 May, 2017', 'imgURL': 'https://cdn.cloudflare.steamstatic.com/steam/apps/306130/capsule_sm_120.jpg?t=1596671976', 'price': 'None', 'discountedPrice': 'None'}, {'gameURL': 'https://store.steampowered.com/app/378648/The_Witcher_3_Wild_Hunt__Blood_and_Wine/?snr=1_7_7_151_150_1', 'title': 'The Witcher 3: Wild Hunt - Blood and Wine', 'releaseDate': '30 May, 2016', 'imgURL': 'https://cdn.cloudflare.steamstatic.com/steam/apps/378648/capsule_sm_120.jpg?t=1598538728', 'price': '₹ 740', 'discountedPrice': '₹ 296'}, {'gameURL': 'https://store.steampowered.com/app/617290/Remnant_From_the_Ashes/?snr=1_7_7_151_150_1', 'title': 'Remnant: From the Ashes', 'releaseDate': '19 Aug, 2019', 'imgURL': 'https://cdn.cloudflare.steamstatic.com/steam/apps/617290/capsule_sm_120.jpg?t=1598909050', 'price': '₹ 1,440', 'discountedPrice': '₹ 864'}, {'gameURL': 'https://store.steampowered.com/app/976730/Halo_The_Master_Chief_Collection/?snr=1_7_7_151_150_1', 'title': 'Halo: The Master Chief Collection', 'releaseDate': '3 Dec, 2019', 'imgURL': 'https://cdn.cloudflare.steamstatic.com/steam/apps/976730/capsule_sm_120.jpg?t=1594746021', 'price': 'None', 'discountedPrice': 'None'}, {'gameURL': 'https://store.steampowered.com/app/536270/Ancestors_The_Humankind_Odyssey/?snr=1_7_7_151_150_1', 'title': 'Ancestors: The Humankind Odyssey', 'releaseDate': '27 Aug, 2020', 'imgURL': 'https://cdn.cloudflare.steamstatic.com/steam/apps/536270/capsule_sm_120.jpg?t=1598563741', 'price': '₹ 1,990', 'discountedPrice': '₹ 995'}, {'gameURL': 'https://store.steampowered.com/app/1222670/The_Sims_4/?snr=1_7_7_151_150_1', 'title': 'The Sims™ 4', 'releaseDate': '18 Jun, 2020', 'imgURL': 'https://cdn.cloudflare.steamstatic.com/steam/apps/1222670/capsule_sm_120.jpg?t=1598889778', 'price': 'None', 'discountedPrice': 'None'}, {'gameURL': 'https://store.steampowered.com/app/1286830/STAR_WARS_The_Old_Republic/?snr=1_7_7_151_150_1', 'title': 'STAR WARS™: The Old Republic™', 'releaseDate': '21 Jul, 2020', 'imgURL': 'https://cdn.cloudflare.steamstatic.com/steam/apps/1286830/capsule_sm_120.jpg?t=1597858193', 'price': 'None', 'discountedPrice': 'None'}, {'gameURL': 'https://store.steampowered.com/app/378649/The_Witcher_3_Wild_Hunt__Hearts_of_Stone/?snr=1_7_7_151_150_1', 'title': 'The Witcher 3: Wild Hunt - Hearts of Stone', 'releaseDate': '12 Oct, 2015', 'imgURL': 'https://cdn.cloudflare.steamstatic.com/steam/apps/378649/capsule_sm_120.jpg?t=1598538805', 'price': '₹ 369', 'discountedPrice': '₹ 147'}, {'gameURL': 'https://store.steampowered.com/app/242760/The_Forest/?snr=1_7_7_151_150_1', 'title': 'The Forest', 'releaseDate': '30 Apr, 2018', 'imgURL': 'https://cdn.cloudflare.steamstatic.com/steam/apps/242760/capsule_sm_120.jpg?t=1590522045', 'price': 'None', 'discountedPrice': 'None'}, {'gameURL': 'https://store.steampowered.com/app/1089980/The_Henry_Stickmin_Collection/?snr=1_7_7_151_150_1', 'title': 'The Henry Stickmin Collection', 'releaseDate': '7 Aug, 2020', 'imgURL': 'https://cdn.cloudflare.steamstatic.com/steam/apps/1089980/capsule_sm_120.jpg?t=1598556245', 'price': 'None', 'discountedPrice': 'None'}, {'gameURL': 'https://store.steampowered.com/app/489830/The_Elder_Scrolls_V_Skyrim_Special_Edition/?snr=1_7_7_151_150_1', 'title': 'The Elder Scrolls V: Skyrim Special Edition', 'releaseDate': '27 Oct, 2016', 'imgURL': 'https://cdn.cloudflare.steamstatic.com/steam/apps/489830/capsule_sm_120.jpg?t=1590515887', 'price': 'None', 'discountedPrice': 'None'}, {'gameURL': 'https://store.steampowered.com/app/1377380/Night_of_the_Dead/?snr=1_7_7_151_150_1', 'title': 'Night of the Dead', 'releaseDate': '27 Aug, 2020', 'imgURL': 'https://cdn.cloudflare.steamstatic.com/steam/apps/1377380/capsule_sm_120.jpg?t=1598770861', 'price': '₹ 569', 'discountedPrice': '₹ 512'}, {'gameURL': 'https://store.steampowered.com/app/355880/The_Witcher_3_Wild_Hunt__Expansion_Pass/?snr=1_7_7_151_150_1', 'title': 'The Witcher 3: Wild Hunt - Expansion Pass', 'releaseDate': '19 May, 2015', 'imgURL': 'https://cdn.cloudflare.steamstatic.com/steam/apps/355880/capsule_sm_120.jpg?t=1590487706', 'price': '₹ 619', 'discountedPrice': '₹ 247'}, {'gameURL': 'https://store.steampowered.com/app/440/Team_Fortress_2/?snr=1_7_7_151_150_1', 'title': 'Team Fortress 2', 'releaseDate': '10 Oct, 2007', 'imgURL': 'https://cdn.cloudflare.steamstatic.com/steam/apps/440/capsule_sm_120.jpg?t=1592263852', 'price': 'None', 'discountedPrice': 'None'}, {'gameURL': 'https://store.steampowered.com/app/1299591/Total_War_THREE_KINGDOMS__The_Furious_Wild/?snr=1_7_7_151_150_1', 'title': 'Total War: THREE KINGDOMS - The Furious Wild', 'releaseDate': '', 'imgURL': 'https://cdn.cloudflare.steamstatic.com/steam/apps/1299591/capsule_sm_120.jpg?t=1597761767', 'price': '₹ 869', 'discountedPrice': '₹ 782'}, {'gameURL': 'https://store.steampowered.com/app/518790/theHunter_Call_of_the_Wild/?snr=1_7_7_151_150_1', 'title': 'theHunter: Call of the Wild™', 'releaseDate': '16 Feb, 2017', 'imgURL': 'https://cdn.cloudflare.steamstatic.com/steam/apps/518790/capsule_sm_120.jpg?t=1593805014', 'price': 'None', 'discountedPrice': 'None'}, {'gameURL': 'https://store.steampowered.com/app/1344680/Remnant_From_the_Ashes__Subject_2923/?snr=1_7_7_151_150_1', 'title': 'Remnant: From the Ashes - Subject 2923', 'releaseDate': '20 Aug, 2020', 'imgURL': 'https://cdn.cloudflare.steamstatic.com/steam/apps/1344680/capsule_sm_120.jpg?t=1597957986', 'price': 'None', 'discountedPrice': 'None'}, {'gameURL': 'https://store.steampowered.com/app/780310/The_Riftbreaker/?snr=1_7_7_151_150_1', 'title': 'The Riftbreaker', 'releaseDate': 'Sometime in 2020.', 'imgURL': 'https://cdn.cloudflare.steamstatic.com/steam/apps/780310/capsule_sm_120_alt_assets_1.jpg?t=1598530994', 'price': 'None', 'discountedPrice': 'None'}, {'gameURL': 'https://store.steampowered.com/app/303800/The_Witcher_Adventure_Game/?snr=1_7_7_151_150_1', 'title': 'The Witcher Adventure Game', 'releaseDate': '27 Nov, 2014', 'imgURL': 'https://cdn.cloudflare.steamstatic.com/steam/apps/303800/capsule_sm_120.jpg?t=1590479088', 'price': '₹ 369', 'discountedPrice': '₹ 55'}, {'gameURL': 'https://store.steampowered.com/app/1229320/The_Witcher_3_Wild_Hunt_Soundtrack/?snr=1_7_7_151_150_1', 'title': 'The Witcher 3: Wild Hunt Soundtrack', 'releaseDate': '10 Feb, 2020', 'imgURL': 'https://cdn.cloudflare.steamstatic.com/steam/apps/1229320/capsule_sm_120.jpg?t=1590494798', 'price': 'None', 'discountedPrice': 'None'}, {'gameURL': 'https://store.steampowered.com/app/1245150/Remnant_From_the_Ashes__Swamps_of_Corsus/?snr=1_7_7_151_150_1', 'title': 'Remnant: From the Ashes - Swamps of Corsus', 'releaseDate': '28 Apr, 2020', 'imgURL': 'https://cdn.cloudflare.steamstatic.com/steam/apps/1245150/capsule_sm_120.jpg?t=1588082470', 'price': 'None', 'discountedPrice': 'None'}, {'gameURL': 'https://store.steampowered.com/app/552500/Warhammer_Vermintide_2/?snr=1_7_7_151_150_1', 'title': 'Warhammer: Vermintide 2', 'releaseDate': '8 Mar, 2018', 'imgURL': 'https://cdn.cloudflare.steamstatic.com/steam/apps/552500/capsule_sm_120.jpg?t=1593415986', 'price': '₹ 699', 'discountedPrice': '₹ 174'}, {'gameURL': 'https://store.steampowered.com/app/378645/The_Witcher_3_Wild_Hunt__New_Quest_Where_the_Cat_and_Wolf_Play/?snr=1_7_7_151_150_1', 'title': \"The Witcher 3: Wild Hunt - New Quest 'Where the Cat and Wolf Play...'\", 'releaseDate': '1 Jul, 2015', 'imgURL': 'https://cdn.cloudflare.steamstatic.com/steam/apps/378645/capsule_sm_120.jpg?t=1590492002', 'price': 'None', 'discountedPrice': 'None'}, {'gameURL': 'https://store.steampowered.com/app/1233340/The_Witcher_3_Wild_Hunt__Blood_and_Wine_Soundtrack/?snr=1_7_7_151_150_1', 'title': 'The Witcher 3: Wild Hunt - Blood and Wine Soundtrack', 'releaseDate': '10 Feb, 2020', 'imgURL': 'https://cdn.cloudflare.steamstatic.com/steam/apps/1233340/capsule_sm_120.jpg?t=1590493236', 'price': 'None', 'discountedPrice': 'None'}, {'gameURL': 'https://store.steampowered.com/app/250900/The_Binding_of_Isaac_Rebirth/?snr=1_7_7_151_150_1', 'title': 'The Binding of Isaac: Rebirth', 'releaseDate': '4 Nov, 2014', 'imgURL': 'https://cdn.cloudflare.steamstatic.com/steam/apps/250900/capsule_sm_120.jpg?t=1573181772', 'price': 'None', 'discountedPrice': 'None'}, {'gameURL': 'https://store.steampowered.com/app/370002/The_Witcher_3_Wild_Hunt__Alternative_Look_for_Yennefer/?snr=1_7_7_151_150_1', 'title': 'The Witcher 3: Wild Hunt - Alternative Look for Yennefer', 'releaseDate': '27 May, 2015', 'imgURL': 'https://cdn.cloudflare.steamstatic.com/steam/apps/370002/capsule_sm_120.jpg?t=1590492855', 'price': 'None', 'discountedPrice': 'None'}, {'gameURL': 'https://store.steampowered.com/app/1057090/Ori_and_the_Will_of_the_Wisps/?snr=1_7_7_151_150_1', 'title': 'Ori and the Will of the Wisps', 'releaseDate': '10 Mar, 2020', 'imgURL': 'https://cdn.cloudflare.steamstatic.com/steam/apps/1057090/capsule_sm_120.jpg?t=1591117157', 'price': 'None', 'discountedPrice': 'None'}, {'gameURL': 'https://store.steampowered.com/app/378646/The_Witcher_3_Wild_Hunt__New_Finisher_Animations/?snr=1_7_7_151_150_1', 'title': 'The Witcher 3: Wild Hunt - New Finisher Animations', 'releaseDate': '22 Jul, 2015', 'imgURL': 'https://cdn.cloudflare.steamstatic.com/steam/apps/378646/capsule_sm_120.jpg?t=1590491256', 'price': 'None', 'discountedPrice': 'None'}, {'gameURL': 'https://store.steampowered.com/app/376390/The_Witcher_3_Wild_Hunt__New_Quest_Fools_Gold/?snr=1_7_7_151_150_1', 'title': \"The Witcher 3: Wild Hunt - New Quest 'Fool's Gold'\", 'releaseDate': '10 Jun, 2015', 'imgURL': 'https://cdn.cloudflare.steamstatic.com/steam/apps/376390/capsule_sm_120.jpg?t=1590492524', 'price': 'None', 'discountedPrice': 'None'}, {'gameURL': 'https://store.steampowered.com/app/200210/Realm_of_the_Mad_God_Exalt/?snr=1_7_7_151_150_1', 'title': 'Realm of the Mad God Exalt', 'releaseDate': '20 Feb, 2012', 'imgURL': 'https://cdn.cloudflare.steamstatic.com/steam/apps/200210/capsule_sm_120.jpg?t=1597055293', 'price': 'None', 'discountedPrice': 'None'}, {'gameURL': 'https://store.steampowered.com/app/370003/The_Witcher_3_Wild_Hunt__New_Quest_Contract_Missing_Miners/?snr=1_7_7_151_150_1', 'title': \"The Witcher 3: Wild Hunt - New Quest 'Contract: Missing Miners'\", 'releaseDate': '27 May, 2015', 'imgURL': 'https://cdn.cloudflare.steamstatic.com/steam/apps/370003/capsule_sm_120.jpg?t=1590492922', 'price': 'None', 'discountedPrice': 'None'}, {'gameURL': 'https://store.steampowered.com/app/378640/The_Witcher_3_Wild_Hunt__New_Quest_Scavenger_Hunt_Wolf_School_Gear/?snr=1_7_7_151_150_1', 'title': \"The Witcher 3: Wild Hunt - New Quest: 'Scavenger Hunt: Wolf School Gear'\", 'releaseDate': '17 Jun, 2015', 'imgURL': 'https://cdn.cloudflare.steamstatic.com/steam/apps/378640/capsule_sm_120.jpg?t=1590492348', 'price': 'None', 'discountedPrice': 'None'}, {'gameURL': 'https://store.steampowered.com/app/373950/The_Witcher_3_Wild_Hunt__Nilfgaardian_Armor_Set/?snr=1_7_7_151_150_1', 'title': 'The Witcher 3: Wild Hunt - Nilfgaardian Armor Set', 'releaseDate': '3 Jun, 2015', 'imgURL': 'https://cdn.cloudflare.steamstatic.com/steam/apps/373950/capsule_sm_120.jpg?t=1590492791', 'price': 'None', 'discountedPrice': 'None'}, {'gameURL': 'https://store.steampowered.com/app/370001/The_Witcher_3_Wild_Hunt__Beard_and_Hairstyle_Set/?snr=1_7_7_151_150_1', 'title': 'The Witcher 3: Wild Hunt - Beard and Hairstyle Set', 'releaseDate': '18 May, 2015', 'imgURL': 'https://cdn.cloudflare.steamstatic.com/steam/apps/370001/capsule_sm_120.jpg?t=1590493095', 'price': 'None', 'discountedPrice': 'None'}, {'gameURL': 'https://store.steampowered.com/app/376391/The_Witcher_3_Wild_Hunt__Ballad_Heroes_Neutral_Gwent_Card_Set/?snr=1_7_7_151_150_1', 'title': \"The Witcher 3: Wild Hunt - 'Ballad Heroes' Neutral Gwent Card Set\", 'releaseDate': '10 Jun, 2015', 'imgURL': 'https://cdn.cloudflare.steamstatic.com/steam/apps/376391/capsule_sm_120.jpg?t=1590492586', 'price': 'None', 'discountedPrice': 'None'}, {'gameURL': 'https://store.steampowered.com/app/373951/The_Witcher_3_Wild_Hunt__Elite_Crossbow_Set/?snr=1_7_7_151_150_1', 'title': 'The Witcher 3: Wild Hunt - Elite Crossbow Set', 'releaseDate': '3 Jun, 2015', 'imgURL': 'https://cdn.cloudflare.steamstatic.com/steam/apps/373951/capsule_sm_120.jpg?t=1590492710', 'price': 'None', 'discountedPrice': 'None'}, {'gameURL': 'https://store.steampowered.com/app/378642/The_Witcher_3_Wild_Hunt__New_Quest_Contract_Skelliges_Most_Wanted/?snr=1_7_7_151_150_1', 'title': \"The Witcher 3: Wild Hunt - New Quest 'Contract: Skellige's Most Wanted'\", 'releaseDate': '24 Jun, 2015', 'imgURL': 'https://cdn.cloudflare.steamstatic.com/steam/apps/378642/capsule_sm_120.jpg?t=1590492254', 'price': 'None', 'discountedPrice': 'None'}, {'gameURL': 'https://store.steampowered.com/app/378643/The_Witcher_3_Wild_Hunt__Skellige_Armor_Set/?snr=1_7_7_151_150_1', 'title': 'The Witcher 3: Wild Hunt - Skellige Armor Set', 'releaseDate': '24 Jun, 2015', 'imgURL': 'https://cdn.cloudflare.steamstatic.com/steam/apps/378643/capsule_sm_120.jpg?t=1590492123', 'price': 'None', 'discountedPrice': 'None'}, {'gameURL': 'https://store.steampowered.com/app/378641/The_Witcher_3_Wild_Hunt__Alternative_Look_for_Triss/?snr=1_7_7_151_150_1', 'title': 'The Witcher 3: Wild Hunt - Alternative Look for Triss', 'releaseDate': '17 Jun, 2015', 'imgURL': 'https://cdn.cloudflare.steamstatic.com/steam/apps/378641/capsule_sm_120.jpg?t=1590492427', 'price': 'None', 'discountedPrice': 'None'}, {'gameURL': 'https://store.steampowered.com/app/378647/The_Witcher_3_Wild_Hunt__NEW_GAME/?snr=1_7_7_151_150_1', 'title': 'The Witcher 3: Wild Hunt - NEW GAME +', 'releaseDate': '17 Aug, 2015', 'imgURL': 'https://cdn.cloudflare.steamstatic.com/steam/apps/378647/capsule_sm_120.jpg?t=1590488296', 'price': 'None', 'discountedPrice': 'None'}, {'gameURL': 'https://store.steampowered.com/app/378644/The_Witcher_3_Wild_Hunt__Alternative_Look_for_Ciri/?snr=1_7_7_151_150_1', 'title': 'The Witcher 3: Wild Hunt - Alternative Look for Ciri', 'releaseDate': '19 Jul, 2015', 'imgURL': 'https://cdn.cloudflare.steamstatic.com/steam/apps/378644/capsule_sm_120.jpg?t=1590491690', 'price': 'None', 'discountedPrice': 'None'}, {'gameURL': 'https://store.steampowered.com/app/370000/The_Witcher_3_Wild_Hunt__Temerian_Armor_Set/?snr=1_7_7_151_150_1', 'title': 'The Witcher 3: Wild Hunt - Temerian Armor Set', 'releaseDate': '18 May, 2015', 'imgURL': 'https://cdn.cloudflare.steamstatic.com/steam/apps/370000/capsule_sm_120.jpg?t=1590492982', 'price': 'None', 'discountedPrice': 'None'}, {'gameURL': 'https://store.steampowered.com/app/251570/7_Days_to_Die/?snr=1_7_7_151_150_1', 'title': '7 Days to Die', 'releaseDate': '13 Dec, 2013', 'imgURL': 'https://cdn.cloudflare.steamstatic.com/steam/apps/251570/capsule_sm_120.jpg?t=1598392194', 'price': 'None', 'discountedPrice': 'None'}, {'gameURL': 'https://store.steampowered.com/app/527230/For_The_King/?snr=1_7_7_151_150_1', 'title': 'For The King', 'releaseDate': '19 Apr, 2018', 'imgURL': 'https://cdn.cloudflare.steamstatic.com/steam/apps/527230/capsule_sm_120.jpg?t=1597786938', 'price': 'None', 'discountedPrice': 'None'}]\n"
     ]
    }
   ],
   "source": [
    "r = requests.get(\"https://store.steampowered.com/search/?term=The+witcher\")\n",
    "soup = BeautifulSoup(r.text,'html.parser')\n",
    "resultsRow = soup.find_all('a', {'class': 'search_result_row'})\n",
    "firstresult = []\n",
    "for resultRow in resultsRow:\n",
    "    gameURL = resultRow.get('href')\n",
    "    title = resultRow.find('span', {'class':'title'}).text\n",
    "    releaseDate = resultRow.find('div', {'class': 'search_released'}).text\n",
    "    imgURL = resultRow.select('div.search_capsule img')[0].get('src')\n",
    "    price = 'None'\n",
    "    discountedPrice = 'None'\n",
    "    \n",
    "    if (resultRow.select('div.search_price span strike')):\n",
    "        price = resultRow.select('div.search_price span strike')[\n",
    "            0].text.strip(' \\t\\n\\r')\n",
    "        if (resultRow.select('div.search_price')):\n",
    "            rawDiscountPrice = resultRow.select(\n",
    "                'div.search_price')[0].text.strip(' \\t\\n\\r')\n",
    "            discountedPrice = rawDiscountPrice.replace(price, '')\n",
    "\n",
    "    # Once formatted, the data are then appended to the results list\n",
    "    firstresult.append({\n",
    "        'gameURL': gameURL,\n",
    "        'title': title,\n",
    "        'releaseDate': releaseDate,\n",
    "        'imgURL': imgURL,\n",
    "        'price': price,\n",
    "        'discountedPrice': discountedPrice\n",
    "})\n",
    "\n",
    "print(firstresult)"
   ]
  },
  {
   "cell_type": "code",
   "execution_count": 26,
   "metadata": {},
   "outputs": [],
   "source": [
    "firstresult = pd.DataFrame(firstresult)"
   ]
  },
  {
   "cell_type": "code",
   "execution_count": 28,
   "metadata": {},
   "outputs": [],
   "source": [
    "compression_opts = dict(method='zip',\n",
    "                        archive_name='firstresult.csv')  \n",
    "firstresult.to_csv('firstresult.zip', index=False,\n",
    "          compression=compression_opts)  "
   ]
  },
  {
   "cell_type": "code",
   "execution_count": 30,
   "metadata": {},
   "outputs": [],
   "source": [
    "url = \"http://www.values.com/inspirational-quotes\"\n",
    "r = requests.get(url)\n",
    "soup = BeautifulSoup(r.content, 'html.parser')\n",
    "quotes = []\n",
    "table = soup.find_all('div',attrs = {'id':'all_quotes'})"
   ]
  },
  {
   "cell_type": "code",
   "execution_count": null,
   "metadata": {},
   "outputs": [],
   "source": [
    "for row in table.findAll('div', \n",
    "                         attrs = {'class':'col-6 col-lg-3 text-center margin-30px-bottom sm-margin-30px-top'}): \n",
    "    quote = {} \n",
    "    quote['theme'] = row.h5.text \n",
    "    quote['url'] = row.a['href'] \n",
    "    quote['img'] = row.img['src'] \n",
    "    quote['lines'] = row.img['alt'].split(\" #\")[0] \n",
    "    quote['author'] = row.img['alt'].split(\" #\")[1] \n",
    "    quotes.append(quote) \n",
    "   \n",
    "filename = 'inspirational_quotes.csv'\n",
    "with open(filename, 'w', newline='') as f: \n",
    "    w = csv.DictWriter(f,['theme','url','img','lines','author']) \n",
    "    w.writeheader() \n",
    "    for quote in quotes: \n",
    "        w.writerow(quote) "
   ]
  },
  {
   "cell_type": "code",
   "execution_count": null,
   "metadata": {},
   "outputs": [],
   "source": []
  }
 ],
 "metadata": {
  "kernelspec": {
   "display_name": "Python 3",
   "language": "python",
   "name": "python3"
  },
  "language_info": {
   "codemirror_mode": {
    "name": "ipython",
    "version": 3
   },
   "file_extension": ".py",
   "mimetype": "text/x-python",
   "name": "python",
   "nbconvert_exporter": "python",
   "pygments_lexer": "ipython3",
   "version": "3.8.3"
  }
 },
 "nbformat": 4,
 "nbformat_minor": 4
}
